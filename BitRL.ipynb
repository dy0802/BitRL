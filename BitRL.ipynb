{
 "cells": [
  {
   "cell_type": "code",
   "execution_count": 1,
   "id": "2da7f9d6",
   "metadata": {},
   "outputs": [],
   "source": [
    "import pybithumb\n",
    "import tensorflow as tf\n",
    "import numpy as np\n",
    "import pandas as pd\n",
    "import matplotlib.pyplot as plt"
   ]
  },
  {
   "cell_type": "code",
   "execution_count": 2,
   "id": "b9f1cc8d",
   "metadata": {},
   "outputs": [],
   "source": [
    "df = pybithumb.get_ohlcv(\"BTC\")"
   ]
  },
  {
   "cell_type": "code",
   "execution_count": 42,
   "id": "fec6d771",
   "metadata": {},
   "outputs": [],
   "source": [
    "class Agent:\n",
    "    def __init__(self):\n",
    "        self.state = \"cash\"\n",
    "\n",
    "#5일 뒤의 수익률\n",
    "def value_p(t):\n",
    "    if policy(t) == \"buy\":\n",
    "        return((df.iloc[t+5]['close']-df.iloc[t]['close'])/df.iloc[t]['close'])\n",
    "    else:\n",
    "        return 0\n",
    "\n",
    "#Policy\n",
    "def policy(t):\n",
    "    r= 0.01\n",
    "    profit = (df.iloc[t+5]['close']-df.iloc[t]['close'])/df.iloc[t]['close']\n",
    "    if agent.state == \"cash\":\n",
    "        if profit >= r:\n",
    "            agent.state = \"stock\"\n",
    "            return \"buy\"\n",
    "        else:\n",
    "            return \"stay\"\n",
    "    else:\n",
    "        if profit >= r:\n",
    "            return \"stay\"\n",
    "        else:\n",
    "            agent.state = \"cash\"\n",
    "            return \"sell\"\n",
    "\n",
    "def x(i, df):\n",
    "    result = df[i-256:i]\n",
    "    return result\n",
    "\n",
    "def v_hat(t, w):\n",
    "    x = df.iloc[t].values\n",
    "    return np.dot(x, w)\n",
    "\n",
    "def LS(df, i, alpha):\n",
    "    epoch = 10e-5\n",
    "    x_s = x(i, df)\n",
    "    w = np.zeros(5)\n",
    "    error = []\n",
    "    for t in range(i - 256, i):\n",
    "        error.append(value_p(t) - v_hat(t, w))\n",
    "    \n",
    "    error = np.array(error)\n",
    "    print(error)\n",
    "    while (np.sqrt(np.var(error)) >= epoch):\n",
    "        delta_w = alpha * np.matmul(error, x_s)\n",
    "        w = w - delta_w\n",
    "        error = []\n",
    "        for t in range(i - 30, i):\n",
    "            error.append(value_p(t) - v_hat(t, w))\n",
    "            \n",
    "        error = np.asarray(error)\n",
    "    \n",
    "    return error"
   ]
  },
  {
   "cell_type": "code",
   "execution_count": 43,
   "id": "6591e365",
   "metadata": {},
   "outputs": [
    {
     "name": "stdout",
     "output_type": "stream",
     "text": [
      "cash\n"
     ]
    }
   ],
   "source": [
    "agent = Agent()\n",
    "print(agent.state)"
   ]
  },
  {
   "cell_type": "code",
   "execution_count": 44,
   "id": "bdad7db3",
   "metadata": {
    "scrolled": true
   },
   "outputs": [
    {
     "name": "stdout",
     "output_type": "stream",
     "text": [
      "[0.         0.         0.         0.         0.0182025  0.\n",
      " 0.         0.         0.         0.         0.         0.\n",
      " 0.         0.01657459 0.         0.01982379 0.         0.\n",
      " 0.         0.         0.         0.         0.         0.\n",
      " 0.         0.         0.         0.         0.         0.        ]\n"
     ]
    },
    {
     "name": "stderr",
     "output_type": "stream",
     "text": [
      "C:\\Users\\Yonsei\\anaconda3\\envs\\mlenv\\lib\\site-packages\\numpy\\core\\_methods.py:205: RuntimeWarning: overflow encountered in multiply\n",
      "  x = um.multiply(x, x, out=x)\n",
      "C:\\Users\\Yonsei\\anaconda3\\envs\\mlenv\\lib\\site-packages\\numpy\\core\\_methods.py:202: RuntimeWarning: invalid value encountered in subtract\n",
      "  x = asanyarray(arr - arrmean)\n"
     ]
    },
    {
     "data": {
      "text/plain": [
       "array([inf, inf, inf, inf, inf, inf, inf, inf, inf, inf, inf, inf, inf,\n",
       "       inf, inf, inf, inf, inf, inf, inf, inf, inf, inf, inf, inf, inf,\n",
       "       inf, inf, inf, inf])"
      ]
     },
     "execution_count": 44,
     "metadata": {},
     "output_type": "execute_result"
    }
   ],
   "source": [
    "LS(df, 1000, 0.1)"
   ]
  },
  {
   "cell_type": "code",
   "execution_count": null,
   "id": "9a8393d2",
   "metadata": {},
   "outputs": [],
   "source": []
  }
 ],
 "metadata": {
  "kernelspec": {
   "display_name": "Python 3",
   "language": "python",
   "name": "python3"
  },
  "language_info": {
   "codemirror_mode": {
    "name": "ipython",
    "version": 3
   },
   "file_extension": ".py",
   "mimetype": "text/x-python",
   "name": "python",
   "nbconvert_exporter": "python",
   "pygments_lexer": "ipython3",
   "version": "3.7.10"
  }
 },
 "nbformat": 4,
 "nbformat_minor": 5
}
