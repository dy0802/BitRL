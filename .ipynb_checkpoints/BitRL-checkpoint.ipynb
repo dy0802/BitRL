{
 "cells": [
  {
   "cell_type": "code",
   "execution_count": 45,
   "id": "2da7f9d6",
   "metadata": {},
   "outputs": [],
   "source": [
    "import pybithumb\n",
    "import tensorflow as tf\n",
    "import numpy as np\n",
    "import pandas as pd\n",
    "import matplotlib.pyplot as plt"
   ]
  },
  {
   "cell_type": "code",
   "execution_count": 46,
   "id": "922dec8d",
   "metadata": {},
   "outputs": [],
   "source": [
    "df = pybithumb.get_ohlcv(\"BTC\")"
   ]
  },
  {
   "cell_type": "code",
   "execution_count": 93,
   "id": "45df766f",
   "metadata": {},
   "outputs": [],
   "source": [
    "class Agent:\n",
    "    def __init__(self):\n",
    "        self.state = \"cash\"\n",
    "\n",
    "#5일 뒤의 수익률\n",
    "def value_p(t):\n",
    "    if policy(t) == \"buy\":\n",
    "        return((df.iloc[t+5]['close']-df.iloc[t]['close'])/df.iloc[t]['close'])\n",
    "    else:\n",
    "        return 0\n",
    "\n",
    "#Policy\n",
    "def policy(t):\n",
    "    r= 0.01\n",
    "    profit = (df.iloc[t+5]['close']-df.iloc[t]['close'])/df.iloc[t]['close']\n",
    "    if agent.state == \"cash\":\n",
    "        if profit >= r:\n",
    "            agent.state = \"stock\"\n",
    "            return \"buy\"\n",
    "        else:\n",
    "            return \"stay\"\n",
    "    else:\n",
    "        if profit >= r:\n",
    "            return \"stay\"\n",
    "        else:\n",
    "            agent.state = \"cash\"\n",
    "            return \"sell\"    \n",
    "\n",
    "def x(i, df):\n",
    "    result = df[i-200:i]\n",
    "    return result\n",
    "\n",
    "def v_hat(t, w):\n",
    "    x = df.iloc[t].values\n",
    "    return np.dot(x, w)\n",
    "\n",
    "def LS(df, i, alpha):\n",
    "    epoch = 10e-5\n",
    "    x_s = x(i, df)\n",
    "    w = np.array([0, 0, 0, 0, 0])\n",
    "    error = np.array([])\n",
    "    for t in range(i - 200, i):\n",
    "        np.append(error, [value_p(t) - v_hat(t, w)])\n",
    "    \n",
    "    while (np.sqrt(error.var)):\n",
    "        delta_w = alpha * np.matmul(error, x_s)\n",
    "        w = w - delta_w\n",
    "        error = np.array([])\n",
    "        for t in range(i - 200, i):\n",
    "            np.append(error, [value_p(t) - v_hat(t, w)])"
   ]
  },
  {
   "cell_type": "code",
   "execution_count": 94,
   "id": "5f59c09c",
   "metadata": {},
   "outputs": [
    {
     "name": "stdout",
     "output_type": "stream",
     "text": [
      "cash\n"
     ]
    }
   ],
   "source": [
    "agent = Agent()\n",
    "print(agent.state)"
   ]
  },
  {
   "cell_type": "code",
   "execution_count": 95,
   "id": "1ab32a9f",
   "metadata": {},
   "outputs": [
    {
     "ename": "AttributeError",
     "evalue": "'numpy.ndarray' object has no attribute 'append'",
     "output_type": "error",
     "traceback": [
      "\u001b[1;31m---------------------------------------------------------------------------\u001b[0m",
      "\u001b[1;31mAttributeError\u001b[0m                            Traceback (most recent call last)",
      "\u001b[1;32m<ipython-input-95-cf939e706e7e>\u001b[0m in \u001b[0;36m<module>\u001b[1;34m\u001b[0m\n\u001b[1;32m----> 1\u001b[1;33m \u001b[0mLS\u001b[0m\u001b[1;33m(\u001b[0m\u001b[0mdf\u001b[0m\u001b[1;33m,\u001b[0m \u001b[1;36m1000\u001b[0m\u001b[1;33m,\u001b[0m \u001b[1;36m0.1\u001b[0m\u001b[1;33m)\u001b[0m\u001b[1;33m\u001b[0m\u001b[1;33m\u001b[0m\u001b[0m\n\u001b[0m",
      "\u001b[1;32m<ipython-input-93-a5070ac427fb>\u001b[0m in \u001b[0;36mLS\u001b[1;34m(df, i, alpha)\u001b[0m\n\u001b[0;32m     41\u001b[0m     \u001b[0merror\u001b[0m \u001b[1;33m=\u001b[0m \u001b[0mnp\u001b[0m\u001b[1;33m.\u001b[0m\u001b[0marray\u001b[0m\u001b[1;33m(\u001b[0m\u001b[1;33m[\u001b[0m\u001b[1;33m]\u001b[0m\u001b[1;33m)\u001b[0m\u001b[1;33m\u001b[0m\u001b[1;33m\u001b[0m\u001b[0m\n\u001b[0;32m     42\u001b[0m     \u001b[1;32mfor\u001b[0m \u001b[0mt\u001b[0m \u001b[1;32min\u001b[0m \u001b[0mrange\u001b[0m\u001b[1;33m(\u001b[0m\u001b[0mi\u001b[0m \u001b[1;33m-\u001b[0m \u001b[1;36m200\u001b[0m\u001b[1;33m,\u001b[0m \u001b[0mi\u001b[0m\u001b[1;33m)\u001b[0m\u001b[1;33m:\u001b[0m\u001b[1;33m\u001b[0m\u001b[1;33m\u001b[0m\u001b[0m\n\u001b[1;32m---> 43\u001b[1;33m         \u001b[0merror\u001b[0m\u001b[1;33m.\u001b[0m\u001b[0mappend\u001b[0m\u001b[1;33m(\u001b[0m\u001b[0mvalue_p\u001b[0m\u001b[1;33m(\u001b[0m\u001b[0mt\u001b[0m\u001b[1;33m)\u001b[0m \u001b[1;33m-\u001b[0m \u001b[0mv_hat\u001b[0m\u001b[1;33m(\u001b[0m\u001b[0mt\u001b[0m\u001b[1;33m,\u001b[0m \u001b[0mw\u001b[0m\u001b[1;33m)\u001b[0m\u001b[1;33m)\u001b[0m\u001b[1;33m\u001b[0m\u001b[1;33m\u001b[0m\u001b[0m\n\u001b[0m\u001b[0;32m     44\u001b[0m \u001b[1;33m\u001b[0m\u001b[0m\n\u001b[0;32m     45\u001b[0m     \u001b[1;32mwhile\u001b[0m \u001b[1;33m(\u001b[0m\u001b[0mnp\u001b[0m\u001b[1;33m.\u001b[0m\u001b[0msqrt\u001b[0m\u001b[1;33m(\u001b[0m\u001b[0merror\u001b[0m\u001b[1;33m.\u001b[0m\u001b[0mvar\u001b[0m\u001b[1;33m)\u001b[0m\u001b[1;33m)\u001b[0m\u001b[1;33m:\u001b[0m\u001b[1;33m\u001b[0m\u001b[1;33m\u001b[0m\u001b[0m\n",
      "\u001b[1;31mAttributeError\u001b[0m: 'numpy.ndarray' object has no attribute 'append'"
     ]
    }
   ],
   "source": [
    "LS(df, 1000, 0.1)"
   ]
  },
  {
   "cell_type": "code",
   "execution_count": null,
   "id": "0bad47ed",
   "metadata": {},
   "outputs": [],
   "source": []
  }
 ],
 "metadata": {
  "kernelspec": {
   "display_name": "[BitRL]",
   "language": "python",
   "name": "mlenv"
  },
  "language_info": {
   "codemirror_mode": {
    "name": "ipython",
    "version": 3
   },
   "file_extension": ".py",
   "mimetype": "text/x-python",
   "name": "python",
   "nbconvert_exporter": "python",
   "pygments_lexer": "ipython3",
   "version": "3.9.5"
  }
 },
 "nbformat": 4,
 "nbformat_minor": 5
}
